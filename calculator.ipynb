{
 "cells": [
  {
   "cell_type": "markdown",
   "metadata": {},
   "source": [
    "### Creando una calculadora\n",
    "- Creo una función que me genere dos parametros a,b\n",
    "- Establesco cada una de las operaciones que voy a realizar en pequeñas funciones\n",
    "- Con el while despues establezco lo que quiero que me imprima en cada una de las operaciones\n",
    "- Doy la opcion de que se ingrese las opciones marcadas\n",
    "- Establezco para que \"5\"sea la opcion de salir de la calculadora y con un break, establezco esa parada\n",
    "- establezco las variables de los numeros de entrada para realizar las operaaciones num1, num2\n",
    "- Con las variables de entrada para realizar los calculos despliego la logica del if y finalmente le establesco una salida con else\n",
    "- Para terminar llamo finalmente la funcion Calculator"
   ]
  }
 ],
 "metadata": {
  "language_info": {
   "name": "python"
  }
 },
 "nbformat": 4,
 "nbformat_minor": 2
}
